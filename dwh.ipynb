{
 "cells": [
  {
   "attachments": {},
   "cell_type": "markdown",
   "metadata": {
    "editable": true
   },
   "source": [
    "## Import\n"
   ]
  },
  {
   "cell_type": "code",
   "execution_count": null,
   "metadata": {
    "editable": true
   },
   "outputs": [],
   "source": [
    "import boto3\n",
    "import configparser\n",
    "import matplotlib.pyplot as plt\n",
    "import pandas as pd\n",
    "from time import time\n",
    "\n",
    "config = configparser.ConfigParser()\n",
    "config.read_file(open(\"dwh.cfg\"))\n",
    "\n",
    "HOST = config.get(\"CLUSTER\", \"HOST\")\n",
    "DWH_DB = config.get(\"CLUSTER\", \"DB_NAME\")\n",
    "DWH_DB_USER = config.get(\"CLUSTER\", \"DB_USER\")\n",
    "DWH_DB_PASSWORD = config.get(\"CLUSTER\", \"DB_PASSWORD\")\n",
    "DWH_PORT = config.get(\"CLUSTER\", \"DB_PORT\")\n",
    "\n",
    "config_credential = configparser.ConfigParser()\n",
    "config_credential.read_file(open(\".credential.cfg\"))\n",
    "KEY = config_credential.get(\"AWS\", \"KEY\")\n",
    "SECRET = config_credential.get(\"AWS\", \"SECRET\")\n"
   ]
  },
  {
   "cell_type": "code",
   "execution_count": null,
   "metadata": {
    "editable": true
   },
   "outputs": [],
   "source": [
    "%load_ext sql"
   ]
  },
  {
   "cell_type": "code",
   "execution_count": null,
   "metadata": {
    "editable": true
   },
   "outputs": [],
   "source": [
    "import os \n",
    "conn_string=\"postgresql://{}:{}@{}:{}/{}\".format(DWH_DB_USER, DWH_DB_PASSWORD, HOST, DWH_PORT,DWH_DB)\n",
    "print(conn_string)\n",
    "%sql $conn_string"
   ]
  },
  {
   "attachments": {},
   "cell_type": "markdown",
   "metadata": {},
   "source": [
    "---\n",
    "#### Inspect S3 dataset : log_data\n"
   ]
  },
  {
   "cell_type": "code",
   "execution_count": null,
   "metadata": {
    "editable": true
   },
   "outputs": [],
   "source": [
    "import json\n",
    "\n",
    "s3 = boto3.resource(\"s3\", region_name=\"us-east-1\", aws_access_key_id=KEY, aws_secret_access_key=SECRET)\n",
    "sampleDbBucket = s3.Bucket(\"udacity-dend\")\n",
    "\n",
    "cnt = 0\n",
    "for obj in sampleDbBucket.objects.filter(Prefix=\"log_data\"):\n",
    "    cnt += 1\n",
    "    print(obj)\n",
    "    if cnt >= 5:\n",
    "        break\n"
   ]
  },
  {
   "attachments": {},
   "cell_type": "markdown",
   "metadata": {},
   "source": [
    "#### Inspect S3 dataset : song_data\n"
   ]
  },
  {
   "cell_type": "code",
   "execution_count": null,
   "metadata": {},
   "outputs": [],
   "source": [
    "cnt = 0\n",
    "for obj in sampleDbBucket.objects.filter(Prefix=\"song_data\"):\n",
    "    cnt += 1\n",
    "    print(obj)\n",
    "    if cnt >= 5:\n",
    "        break\n"
   ]
  },
  {
   "attachments": {},
   "cell_type": "markdown",
   "metadata": {
    "editable": true
   },
   "source": [
    "---\n",
    "\n",
    "## Create Tables\n",
    "\n",
    "![star schema](star-schema.png \"star schema\")\n"
   ]
  },
  {
   "cell_type": "code",
   "execution_count": null,
   "metadata": {
    "editable": true
   },
   "outputs": [],
   "source": [
    "def run_create_tables():\n",
    "    import create_tables\n",
    "\n",
    "    create_tables.main()\n",
    "    del create_tables\n",
    "\n",
    "\n",
    "run_create_tables()\n"
   ]
  },
  {
   "attachments": {},
   "cell_type": "markdown",
   "metadata": {
    "editable": true
   },
   "source": [
    "---\n",
    "\n",
    "## Inspect created tables\n"
   ]
  },
  {
   "attachments": {},
   "cell_type": "markdown",
   "metadata": {
    "editable": true
   },
   "source": [
    "### Show list of tables\n"
   ]
  },
  {
   "cell_type": "code",
   "execution_count": null,
   "metadata": {
    "editable": true
   },
   "outputs": [],
   "source": [
    "%sql SELECT DISTINCT tablename FROM PG_TABLE_DEF WHERE schemaname = 'public';"
   ]
  },
  {
   "attachments": {},
   "cell_type": "markdown",
   "metadata": {
    "editable": true
   },
   "source": [
    "---\n",
    "\n",
    "## ETL\n"
   ]
  },
  {
   "attachments": {},
   "cell_type": "markdown",
   "metadata": {
    "editable": true
   },
   "source": [
    "### COPY Staging_events, Staging_songs\n"
   ]
  },
  {
   "cell_type": "code",
   "execution_count": null,
   "metadata": {
    "editable": true
   },
   "outputs": [],
   "source": [
    "def run_etl():\n",
    "    import etl\n",
    "    etl.main()\n",
    "    del etl\n",
    "\n",
    "run_etl()\n"
   ]
  },
  {
   "attachments": {},
   "cell_type": "markdown",
   "metadata": {},
   "source": [
    "### [Optional] `COPY` Straging_songs in smaller amount\n",
    "In case Redshift have a few nodes (for my setup is 2 nodes), `COPY` with full dataset will take time too long and cause an `ABORTED`."
   ]
  },
  {
   "cell_type": "code",
   "execution_count": null,
   "metadata": {},
   "outputs": [],
   "source": [
    "\n",
    "import configparser\n",
    "import psycopg2\n",
    "\n",
    "\n",
    "def load_staging_tables(cur, conn):\n",
    "\n",
    "    staging_songs_copy = (\n",
    "        \"\"\"\n",
    "    COPY staging_songs from '{}'\n",
    "    credentials 'aws_iam_role={}'\n",
    "    FORMAT AS JSON 'auto'\n",
    "    REGION 'us-west-2'\n",
    "    \"\"\"\n",
    "    )\n",
    "\n",
    "    config = configparser.ConfigParser()\n",
    "    config.read('dwh.cfg')\n",
    "\n",
    "    conn = psycopg2.connect(\"host={} dbname={} user={} password={} port={}\".format(*config['CLUSTER'].values()))\n",
    "    cur = conn.cursor()\n",
    "\n",
    "    az = \"ABCDEFGHIJKLMNOPQRZTUVWXYZ\"\n",
    "    for char in az:\n",
    "        s3_path = \"s3://udacity-dend/song_data/A/{}\".format(char)\n",
    "        query = staging_songs_copy.format(s3_path,'arn:aws:iam::975113008954:role/dwhRole' )\n",
    "        print(query)\n",
    "        cur.execute(query)\n",
    "        conn.commit()\n",
    "        print(f\"...{char}\")\n",
    "    \n",
    "    conn.close()\n",
    "\n",
    "\n",
    "\n",
    "load_staging_tables()\n"
   ]
  },
  {
   "attachments": {},
   "cell_type": "markdown",
   "metadata": {
    "editable": true
   },
   "source": [
    "### Test Query Staging_events\n"
   ]
  },
  {
   "cell_type": "code",
   "execution_count": null,
   "metadata": {
    "editable": true
   },
   "outputs": [],
   "source": [
    "%sql SELECT * FROM staging_events limit 10; "
   ]
  },
  {
   "cell_type": "code",
   "execution_count": null,
   "metadata": {
    "editable": true
   },
   "outputs": [],
   "source": [
    "%sql SELECT COUNT(*) FROM staging_events; "
   ]
  },
  {
   "attachments": {},
   "cell_type": "markdown",
   "metadata": {},
   "source": [
    "### Test Query Staging_songs"
   ]
  },
  {
   "cell_type": "code",
   "execution_count": null,
   "metadata": {},
   "outputs": [],
   "source": [
    "\n",
    "%sql SELECT * FROM staging_songs limit 10; "
   ]
  },
  {
   "cell_type": "code",
   "execution_count": null,
   "metadata": {},
   "outputs": [],
   "source": [
    "%sql SELECT COUNT(*) FROM staging_songs;\n"
   ]
  },
  {
   "attachments": {},
   "cell_type": "markdown",
   "metadata": {},
   "source": [
    "#### Test Query"
   ]
  },
  {
   "cell_type": "code",
   "execution_count": null,
   "metadata": {},
   "outputs": [],
   "source": [
    "%sql SELECT COUNT(*) FROM songplays"
   ]
  },
  {
   "cell_type": "code",
   "execution_count": null,
   "metadata": {},
   "outputs": [],
   "source": [
    "\n",
    "%sql SELECT COUNT(*) FROM users"
   ]
  },
  {
   "cell_type": "code",
   "execution_count": null,
   "metadata": {},
   "outputs": [],
   "source": [
    "\n",
    "%sql SELECT COUNT(*) FROM songs"
   ]
  },
  {
   "cell_type": "code",
   "execution_count": null,
   "metadata": {},
   "outputs": [],
   "source": [
    "\n",
    "%sql SELECT COUNT(*) FROM artists"
   ]
  },
  {
   "cell_type": "code",
   "execution_count": null,
   "metadata": {},
   "outputs": [],
   "source": [
    "%sql SELECT COUNT(*) FROM time"
   ]
  },
  {
   "cell_type": "code",
   "execution_count": null,
   "metadata": {},
   "outputs": [],
   "source": []
  },
  {
   "attachments": {},
   "cell_type": "markdown",
   "metadata": {},
   "source": [
    "---\n",
    "### [Optional] Manual `INSERT`"
   ]
  },
  {
   "attachments": {},
   "cell_type": "markdown",
   "metadata": {},
   "source": [
    "#### INSERT songplays"
   ]
  },
  {
   "cell_type": "code",
   "execution_count": null,
   "metadata": {},
   "outputs": [],
   "source": [
    "%%sql \n",
    "INSERT INTO songplays (start_time, user_id, level, song_id, artist_id, session_id, location, user_agent)\n",
    "SELECT e.ts, e.userId, e.level, s.song_id, s.artist_id, e.sessionId, e.location, e.userAgent\n",
    "FROM staging_events as e\n",
    "JOIN staging_songs as s\n",
    "    ON e.song = s.title\n",
    "    AND e.artist = s.artist_name"
   ]
  },
  {
   "attachments": {},
   "cell_type": "markdown",
   "metadata": {},
   "source": [
    "#### INSERT users"
   ]
  },
  {
   "cell_type": "code",
   "execution_count": null,
   "metadata": {},
   "outputs": [],
   "source": [
    "%%sql \n",
    "INSERT INTO users (user_id, first_name, last_name, gender, level)\n",
    "SELECT DISTINCT userId, firstName, lastName, gender, level\n",
    "FROM staging_events\n",
    "WHERE userId is NOT NULL"
   ]
  },
  {
   "attachments": {},
   "cell_type": "markdown",
   "metadata": {},
   "source": [
    "#### INSERT songs"
   ]
  },
  {
   "cell_type": "code",
   "execution_count": null,
   "metadata": {},
   "outputs": [],
   "source": [
    "\n",
    "%%sql \n",
    "INSERT INTO songs (song_id, title, artist_id, year, duration)\n",
    "SELECT DISTINCT song_id, title, artist_id, year, duration\n",
    "FROM staging_songs\n",
    "WHERE song_id is NOT NULL"
   ]
  },
  {
   "attachments": {},
   "cell_type": "markdown",
   "metadata": {},
   "source": [
    "#### INSERT artists"
   ]
  },
  {
   "cell_type": "code",
   "execution_count": null,
   "metadata": {},
   "outputs": [],
   "source": [
    "\n",
    "%%sql \n",
    "INSERT INTO artists (artist_id, name, location, latitude, longitude)\n",
    "SELECT DISTINCT artist_id, artist_name, artist_location, artist_latitude, artist_longitude\n",
    "FROM staging_songs\n",
    "WHERE artist_id is NOT NULL"
   ]
  },
  {
   "attachments": {},
   "cell_type": "markdown",
   "metadata": {},
   "source": [
    "#### INSERT time"
   ]
  },
  {
   "cell_type": "code",
   "execution_count": null,
   "metadata": {},
   "outputs": [],
   "source": [
    "\n",
    "%%sql \n",
    "INSERT INTO time (start_time, hour, day, week, year, weekday)\n",
    "SELECT DISTINCT ts, EXTRACT(hour from ts), EXTRACT(day from ts), EXTRACT(week from ts), EXTRACT(year from ts), EXTRACT(weekday from ts)\n",
    "FROM staging_events\n",
    "WHERE ts is NOT NULL"
   ]
  }
 ],
 "metadata": {
  "kernelspec": {
   "display_name": "Python 3",
   "language": "python",
   "name": "python3"
  },
  "language_info": {
   "codemirror_mode": {
    "name": "ipython",
    "version": 3
   },
   "file_extension": ".py",
   "mimetype": "text/x-python",
   "name": "python",
   "nbconvert_exporter": "python",
   "pygments_lexer": "ipython3",
   "version": "3.8.10"
  },
  "vscode": {
   "interpreter": {
    "hash": "916dbcbb3f70747c44a77c7bcd40155683ae19c65e1c03b4aa3499c5328201f1"
   }
  }
 },
 "nbformat": 4,
 "nbformat_minor": 4
}
